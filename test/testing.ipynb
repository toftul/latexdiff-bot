{
 "cells": [
  {
   "cell_type": "code",
   "execution_count": 2,
   "id": "3b06c2ab-48b4-4101-aa62-9d4c9c4b2204",
   "metadata": {},
   "outputs": [],
   "source": [
    "import os\n",
    "import shutil\n",
    "import subprocess\n",
    "import zipfile\n",
    "\n",
    "from icecream import ic\n",
    "\n",
    "from collage import make_diff_image"
   ]
  },
  {
   "cell_type": "code",
   "execution_count": 6,
   "id": "87d1c468-ba25-4975-9519-2c89f1bb80f8",
   "metadata": {},
   "outputs": [],
   "source": [
    "def extract(path_to_zip, target_dir):\n",
    "    with zipfile.ZipFile(path_to_zip, 'r') as target_zip:\n",
    "        target_zip.extractall(target_dir)\n",
    "        \n",
    "        \n",
    "def find_main_tex(path):\n",
    "    directory = os.path.join(os.getcwd(), path)\n",
    "    tex_file = None\n",
    "    for root, dirs, files in os.walk(directory):\n",
    "        for file in files:\n",
    "            if file.endswith('.tex'):\n",
    "                tex_file = os.path.join(root, file)\n",
    "                break\n",
    "        if tex_file:\n",
    "            break\n",
    "    return tex_file\n",
    "\n",
    "\n",
    "def get_image_paths(target_tex_file):\n",
    "    image_paths = []\n",
    "    with open(target_tex_file, 'r') as tex_file:\n",
    "        for line in tex_file:\n",
    "            if not line.strip().startswith('%') and 'includegraphics' in line:\n",
    "                start_index = line.find('{') + 1\n",
    "                end_index = line.find('}')\n",
    "                image_path = line[start_index:end_index]\n",
    "                image_paths.append(image_path)\n",
    "    return image_paths"
   ]
  },
  {
   "cell_type": "code",
   "execution_count": 7,
   "id": "582c600c-9fde-4805-8d01-aa512ac51afa",
   "metadata": {},
   "outputs": [
    {
     "name": "stdout",
     "output_type": "stream",
     "text": [
      "/Users/ivan/Documents/GitHub/latexdiff-bot/test/new \n",
      " /Users/ivan/Documents/GitHub/latexdiff-bot/test/old\n"
     ]
    }
   ],
   "source": [
    "new_zip = 'new.zip'\n",
    "old_zip = 'old.zip'\n",
    "\n",
    "dir_new = 'new'\n",
    "dir_old = 'old'\n",
    "\n",
    "dir_new_full = os.path.join(os.getcwd(), dir_new)\n",
    "dir_old_full = os.path.join(os.getcwd(), dir_old)\n",
    "\n",
    "extract(new_zip, dir_new)\n",
    "extract(old_zip, dir_old)\n",
    "\n",
    "print(dir_new_full, '\\n', dir_old_full)"
   ]
  },
  {
   "cell_type": "code",
   "execution_count": 10,
   "id": "6198b45b-997b-48ed-bc28-550b472cce81",
   "metadata": {},
   "outputs": [
    {
     "name": "stdout",
     "output_type": "stream",
     "text": [
      "/Users/ivan/Documents/GitHub/latexdiff-bot/test/old/main.tex \n",
      " /Users/ivan/Documents/GitHub/latexdiff-bot/test/new/main.tex\n"
     ]
    }
   ],
   "source": [
    "old_tex_file = find_main_tex(dir_old)\n",
    "new_tex_file = find_main_tex(dir_new)\n",
    "\n",
    "print(old_tex_file, '\\n', new_tex_file)"
   ]
  },
  {
   "cell_type": "code",
   "execution_count": 11,
   "id": "20da9722-59a9-4c4d-9bfd-42019191e9c5",
   "metadata": {},
   "outputs": [
    {
     "name": "stdout",
     "output_type": "stream",
     "text": [
      "['fig/figure1.png'] \n",
      " ['fig/image.png', 'fig/E_2_2.png']\n"
     ]
    }
   ],
   "source": [
    "new_image_paths = get_image_paths(new_tex_file)\n",
    "old_image_paths = get_image_paths(old_tex_file)\n",
    "\n",
    "print(old_image_paths, '\\n', new_image_paths)"
   ]
  },
  {
   "cell_type": "code",
   "execution_count": 22,
   "id": "5a22aded-7981-4f6d-9578-ad0372004221",
   "metadata": {},
   "outputs": [
    {
     "data": {
      "text/plain": [
       "[True, True, True, True, False]"
      ]
     },
     "execution_count": 22,
     "metadata": {},
     "output_type": "execute_result"
    }
   ],
   "source": [
    "def find_changed_images(old_image_paths, new_image_paths):\n",
    "    changed_images = []\n",
    "\n",
    "    for index, new_image in enumerate(new_image_paths):\n",
    "        if index < len(old_image_paths):\n",
    "            old_image = old_image_paths[index]\n",
    "            if old_image != new_image:\n",
    "                changed_images.append(True)\n",
    "            else:\n",
    "                changed_images.append(False)\n",
    "        else:\n",
    "            changed_images.append(True)\n",
    "\n",
    "    remaining_indices = len(new_image_paths) - len(old_image_paths)\n",
    "    changed_images.extend([False] * remaining_indices)\n",
    "\n",
    "    return changed_images\n",
    "\n",
    "old_image_paths = ['fig1.png', 'fig2.png', 'fig3.png']\n",
    "new_image_paths =  ['fig1_new.png', 'fig0.png', 'fig2.png', 'fig3.png']\n",
    "find_changed_images(old_image_paths, new_image_paths)"
   ]
  },
  {
   "cell_type": "code",
   "execution_count": 23,
   "id": "bd3ab229-5b1b-4529-8362-c20fe86d2124",
   "metadata": {},
   "outputs": [],
   "source": [
    "arr = np.zeros(len(new_image_paths))"
   ]
  },
  {
   "cell_type": "code",
   "execution_count": 12,
   "id": "6cae3917-0c02-494a-a06b-bdf6c523275c",
   "metadata": {},
   "outputs": [
    {
     "data": {
      "text/plain": [
       "'/Users/ivan/Documents/GitHub/latexdiff-bot/test/new/fig/figure1.png'"
      ]
     },
     "execution_count": 12,
     "metadata": {},
     "output_type": "execute_result"
    }
   ],
   "source": [
    "os.path.join(dir_new_full, 'fig/figure1.png')"
   ]
  },
  {
   "cell_type": "code",
   "execution_count": 16,
   "id": "89bc159e-55db-4629-b739-ac41884b225a",
   "metadata": {},
   "outputs": [],
   "source": [
    "make_diff_image(\n",
    "    path_img_old=os.path.join(dir_old_full, 'fig/figure1.png'), \n",
    "    path_img_new=os.path.join(dir_new_full, 'fig/image.png'), \n",
    "    path_img_diff=os.path.join(dir_new_full, 'fig/image.png')\n",
    ")\n"
   ]
  },
  {
   "cell_type": "code",
   "execution_count": 50,
   "id": "201fa75d-d6e5-408d-96b5-474bd8527cdb",
   "metadata": {},
   "outputs": [
    {
     "name": "stderr",
     "output_type": "stream",
     "text": [
      "ic| old_img_number: 1, new_img_number: 2\n"
     ]
    }
   ],
   "source": [
    "old_img_number = len(old_image_paths)\n",
    "new_img_number = len(new_image_paths)\n",
    "\n",
    "ic(\n",
    "    old_img_number, new_img_number\n",
    "); "
   ]
  },
  {
   "cell_type": "code",
   "execution_count": null,
   "id": "d052c93b-d350-4dec-beb1-fa4267d815a2",
   "metadata": {},
   "outputs": [],
   "source": []
  },
  {
   "cell_type": "code",
   "execution_count": null,
   "id": "cd7d3762-4fd9-45cf-a2cd-427a061bdb0b",
   "metadata": {},
   "outputs": [],
   "source": [
    "\n",
    "\n",
    "# Create the diff.tex file using latexdiff\n",
    "diff_file = 'diff.tex'\n",
    "latexdiff_command = f'latexdiff {old_tex_file} {new_tex_file} > new/{diff_file}'\n",
    "subprocess.run(latexdiff_command, shell=True, check=True)\n",
    "\n",
    "# Get the list of images used in the main LaTeX file\n",
    "image_paths = []\n",
    "with open(new_tex_file, 'r') as tex_file:\n",
    "    for line in tex_file:\n",
    "        if 'includegraphics' in line:\n",
    "            start_index = line.find('{') + 1\n",
    "            end_index = line.find('}')\n",
    "            image_path = line[start_index:end_index]\n",
    "            image_paths.append(image_path)\n",
    "\n",
    "# Apply make_diff_image command to changed images\n",
    "for image_path in image_paths:\n",
    "    path_img_old = os.path.join(old_directory, image_path)\n",
    "    path_img_new = os.path.join(new_directory, image_path)\n",
    "    path_img_diff = os.path.join(new_directory, 'diff', image_path)\n",
    "    make_diff_image(path_img_old, path_img_new, path_img_diff)\n",
    "\n",
    "os.chdir('new')\n",
    "\n",
    "# Compile the diff.tex file\n",
    "pdflatex_command = f'latexmk -f -pdf {diff_file}'\n",
    "subprocess.run(pdflatex_command, shell=True, check=True)\n",
    "\n",
    "os.chdir('..')\n",
    "\n",
    "shutil.move('new/diff.pdf', 'diff.pdf')\n",
    "\n"
   ]
  },
  {
   "cell_type": "code",
   "execution_count": 17,
   "id": "07ac2035-7853-47e7-94da-5eb716546a06",
   "metadata": {},
   "outputs": [],
   "source": [
    "# Clean up temporary directories and files\n",
    "shutil.rmtree('new')\n",
    "shutil.rmtree('old')"
   ]
  },
  {
   "cell_type": "code",
   "execution_count": null,
   "id": "665262b9-dd45-4a56-af03-c70a1f39b29f",
   "metadata": {},
   "outputs": [],
   "source": []
  }
 ],
 "metadata": {
  "kernelspec": {
   "display_name": "Python 3 (ipykernel)",
   "language": "python",
   "name": "python3"
  },
  "language_info": {
   "codemirror_mode": {
    "name": "ipython",
    "version": 3
   },
   "file_extension": ".py",
   "mimetype": "text/x-python",
   "name": "python",
   "nbconvert_exporter": "python",
   "pygments_lexer": "ipython3",
   "version": "3.10.5"
  }
 },
 "nbformat": 4,
 "nbformat_minor": 5
}
