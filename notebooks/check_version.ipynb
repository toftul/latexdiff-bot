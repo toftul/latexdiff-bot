{
 "cells": [
  {
   "cell_type": "code",
   "execution_count": 25,
   "id": "8fc815c9-bae9-4dde-b432-6ce136ca1b18",
   "metadata": {},
   "outputs": [],
   "source": [
    "import requests\n",
    "import toml\n",
    "import os\n",
    "import subprocess\n",
    "from packaging import version"
   ]
  },
  {
   "cell_type": "code",
   "execution_count": 26,
   "id": "12cc7186-d4ea-4bec-a960-5080dd2e2d85",
   "metadata": {},
   "outputs": [],
   "source": [
    "url = \"https://raw.githubusercontent.com/toftul/latexdiff-bot/main/pyproject.toml\"\n",
    "pyproject_content_gh = requests.get(url).text\n",
    "pyproject_content_gh_parsed = toml.loads(pyproject_content_gh)\n",
    "gh_version = pyproject_content_gh_parsed['tool']['poetry']['version']\n",
    "local_version = '0.1.0'"
   ]
  },
  {
   "cell_type": "code",
   "execution_count": 27,
   "id": "a72db1d6-de1d-4f41-9823-8d147fec2b95",
   "metadata": {},
   "outputs": [
    {
     "name": "stdout",
     "output_type": "stream",
     "text": [
      "0.1.1\n"
     ]
    }
   ],
   "source": [
    "print(gh_version)"
   ]
  },
  {
   "cell_type": "code",
   "execution_count": 28,
   "id": "2ec133f0-98a3-45d6-a6ef-04324a101e52",
   "metadata": {},
   "outputs": [
    {
     "name": "stdout",
     "output_type": "stream",
     "text": [
      "0.1.0\n"
     ]
    }
   ],
   "source": [
    "print(local_version)"
   ]
  },
  {
   "cell_type": "code",
   "execution_count": 29,
   "id": "13e8254d-1395-4d25-be09-48c7e0d8e75a",
   "metadata": {},
   "outputs": [
    {
     "data": {
      "text/plain": [
       "True"
      ]
     },
     "execution_count": 29,
     "metadata": {},
     "output_type": "execute_result"
    }
   ],
   "source": [
    "version.parse(gh_version) > version.parse(local_version)"
   ]
  },
  {
   "cell_type": "code",
   "execution_count": 30,
   "id": "214b5473-1494-444c-a50d-5b17ca3bce42",
   "metadata": {},
   "outputs": [],
   "source": [
    "def check_pull_restart(working_dir, gh_raw_url_toml, service_name, local_toml_filename='pyproject.toml'):\n",
    "    default_dir = os.getcwd()\n",
    "    \n",
    "    pyproject_content_gh = requests.get(gh_raw_url_toml).text\n",
    "    pyproject_content_gh_parsed = toml.loads(pyproject_content_gh)\n",
    "    gh_version = pyproject_content_gh_parsed['tool']['poetry']['version']\n",
    "    \n",
    "    pyproject_content_local_parsed = toml.load(os.path.join(working_dir, local_toml_filename))\n",
    "    local_version = pyproject_content_local_parsed['tool']['poetry']['version']\n",
    "    \n",
    "    if version.parse(gh_version) > version(local_version):\n",
    "        # change dir\n",
    "        os.chdir(working_dir)\n",
    "        # pull \n",
    "        subprocess.run(\n",
    "            'git pull',\n",
    "            shell=True\n",
    "        )\n",
    "        # install new dependencies if any\n",
    "        subprocess.run(\n",
    "            'poetry install',\n",
    "            shell=True\n",
    "        )\n",
    "        # restart service\n",
    "        subprocess.run(\n",
    "            f'systemctl --user restart {service_name}',\n",
    "            shell=True\n",
    "        )\n",
    "        os.chdir(default_dir)\n",
    "        \n",
    "        return True\n",
    "    else:\n",
    "        return False\n",
    "    "
   ]
  },
  {
   "cell_type": "code",
   "execution_count": 31,
   "id": "6df97e12-1b34-4fcf-bd84-ba33c26b98a2",
   "metadata": {},
   "outputs": [],
   "source": [
    "bots = {\n",
    "    \"latexdiffbot\": {  # https://github.com/toftul/latexdiff-bot\n",
    "        \"working_dir\": \"/home/ivan/bots/latexdiffbot\",\n",
    "        \"gh_raw_url_toml\": \"https://raw.githubusercontent.com/toftul/latexdiff-bot/main/pyproject.toml\",\n",
    "        \"service_name\": \"latexdiffbot\"\n",
    "    },\n",
    "    \"tg-howwasyourdaybot\": {  # https://github.com/toftul/tg-howwasyourday\n",
    "        \"working_dir\": \"/home/ivan/bots/tg-howwasyourday\",\n",
    "        \"gh_raw_url_toml\": \"https://raw.githubusercontent.com/toftul/tg-howwasyourday/main/bot.py?token=GHSAT0AAAAAACDDKS5A5AX6VADTNT3IWK3QZDSCRQA\",\n",
    "        \"service_name\": \"howwasyourdaybot\"\n",
    "    }\n",
    "}"
   ]
  },
  {
   "cell_type": "code",
   "execution_count": 33,
   "id": "df6e0798-3e7a-4cab-83f5-53e333e2ab05",
   "metadata": {},
   "outputs": [
    {
     "data": {
      "text/plain": [
       "<Response [404]>"
      ]
     },
     "execution_count": 33,
     "metadata": {},
     "output_type": "execute_result"
    }
   ],
   "source": [
    "requests.get(\"https://raw.githubusercontent.com/toftul/tg-howwasyourday/main/bot.py?token=GHSAT0AAAAAACDDKS5A5AX6VADTNT3IWK3QZDSCRQA\")"
   ]
  },
  {
   "cell_type": "code",
   "execution_count": 32,
   "id": "66ae1a2c-e478-4699-9acb-a4435eb81885",
   "metadata": {},
   "outputs": [
    {
     "ename": "FileNotFoundError",
     "evalue": "[Errno 2] No such file or directory: '/home/ivan/bots/latexdiffbot/pyproject.toml'",
     "output_type": "error",
     "traceback": [
      "\u001b[0;31m---------------------------------------------------------------------------\u001b[0m",
      "\u001b[0;31mFileNotFoundError\u001b[0m                         Traceback (most recent call last)",
      "Input \u001b[0;32mIn [32]\u001b[0m, in \u001b[0;36m<cell line: 1>\u001b[0;34m()\u001b[0m\n\u001b[1;32m      1\u001b[0m \u001b[38;5;28;01mfor\u001b[39;00m bot \u001b[38;5;129;01min\u001b[39;00m bots:\n\u001b[0;32m----> 2\u001b[0m     \u001b[43mcheck_pull_restart\u001b[49m\u001b[43m(\u001b[49m\n\u001b[1;32m      3\u001b[0m \u001b[43m        \u001b[49m\u001b[43mworking_dir\u001b[49m\u001b[38;5;241;43m=\u001b[39;49m\u001b[43mbots\u001b[49m\u001b[43m[\u001b[49m\u001b[43mbot\u001b[49m\u001b[43m]\u001b[49m\u001b[43m[\u001b[49m\u001b[38;5;124;43m\"\u001b[39;49m\u001b[38;5;124;43mworking_dir\u001b[39;49m\u001b[38;5;124;43m\"\u001b[39;49m\u001b[43m]\u001b[49m\u001b[43m,\u001b[49m\u001b[43m \u001b[49m\n\u001b[1;32m      4\u001b[0m \u001b[43m        \u001b[49m\u001b[43mgh_raw_url_toml\u001b[49m\u001b[38;5;241;43m=\u001b[39;49m\u001b[43mbots\u001b[49m\u001b[43m[\u001b[49m\u001b[43mbot\u001b[49m\u001b[43m]\u001b[49m\u001b[43m[\u001b[49m\u001b[38;5;124;43m\"\u001b[39;49m\u001b[38;5;124;43mgh_raw_url_toml\u001b[39;49m\u001b[38;5;124;43m\"\u001b[39;49m\u001b[43m]\u001b[49m\u001b[43m,\u001b[49m\u001b[43m \u001b[49m\n\u001b[1;32m      5\u001b[0m \u001b[43m        \u001b[49m\u001b[43mservice_name\u001b[49m\u001b[38;5;241;43m=\u001b[39;49m\u001b[43mbots\u001b[49m\u001b[43m[\u001b[49m\u001b[43mbot\u001b[49m\u001b[43m]\u001b[49m\u001b[43m[\u001b[49m\u001b[38;5;124;43m\"\u001b[39;49m\u001b[38;5;124;43mservice_name\u001b[39;49m\u001b[38;5;124;43m\"\u001b[39;49m\u001b[43m]\u001b[49m\u001b[43m,\u001b[49m\u001b[43m \u001b[49m\n\u001b[1;32m      6\u001b[0m \u001b[43m        \u001b[49m\u001b[43mlocal_toml_filename\u001b[49m\u001b[38;5;241;43m=\u001b[39;49m\u001b[38;5;124;43m'\u001b[39;49m\u001b[38;5;124;43mpyproject.toml\u001b[39;49m\u001b[38;5;124;43m'\u001b[39;49m\n\u001b[1;32m      7\u001b[0m \u001b[43m    \u001b[49m\u001b[43m)\u001b[49m\n",
      "Input \u001b[0;32mIn [30]\u001b[0m, in \u001b[0;36mcheck_pull_restart\u001b[0;34m(working_dir, gh_raw_url_toml, service_name, local_toml_filename)\u001b[0m\n\u001b[1;32m      5\u001b[0m pyproject_content_gh_parsed \u001b[38;5;241m=\u001b[39m toml\u001b[38;5;241m.\u001b[39mloads(pyproject_content_gh)\n\u001b[1;32m      6\u001b[0m gh_version \u001b[38;5;241m=\u001b[39m pyproject_content_gh_parsed[\u001b[38;5;124m'\u001b[39m\u001b[38;5;124mtool\u001b[39m\u001b[38;5;124m'\u001b[39m][\u001b[38;5;124m'\u001b[39m\u001b[38;5;124mpoetry\u001b[39m\u001b[38;5;124m'\u001b[39m][\u001b[38;5;124m'\u001b[39m\u001b[38;5;124mversion\u001b[39m\u001b[38;5;124m'\u001b[39m]\n\u001b[0;32m----> 8\u001b[0m pyproject_content_local_parsed \u001b[38;5;241m=\u001b[39m \u001b[43mtoml\u001b[49m\u001b[38;5;241;43m.\u001b[39;49m\u001b[43mload\u001b[49m\u001b[43m(\u001b[49m\u001b[43mos\u001b[49m\u001b[38;5;241;43m.\u001b[39;49m\u001b[43mpath\u001b[49m\u001b[38;5;241;43m.\u001b[39;49m\u001b[43mjoin\u001b[49m\u001b[43m(\u001b[49m\u001b[43mworking_dir\u001b[49m\u001b[43m,\u001b[49m\u001b[43m \u001b[49m\u001b[43mlocal_toml_filename\u001b[49m\u001b[43m)\u001b[49m\u001b[43m)\u001b[49m\n\u001b[1;32m      9\u001b[0m local_version \u001b[38;5;241m=\u001b[39m pyproject_content_local_parsed[\u001b[38;5;124m'\u001b[39m\u001b[38;5;124mtool\u001b[39m\u001b[38;5;124m'\u001b[39m][\u001b[38;5;124m'\u001b[39m\u001b[38;5;124mpoetry\u001b[39m\u001b[38;5;124m'\u001b[39m][\u001b[38;5;124m'\u001b[39m\u001b[38;5;124mversion\u001b[39m\u001b[38;5;124m'\u001b[39m]\n\u001b[1;32m     11\u001b[0m \u001b[38;5;28;01mif\u001b[39;00m version\u001b[38;5;241m.\u001b[39mparse(gh_version) \u001b[38;5;241m>\u001b[39m version(local_version):\n\u001b[1;32m     12\u001b[0m     \u001b[38;5;66;03m# change dir\u001b[39;00m\n",
      "File \u001b[0;32m~/.pyenv/versions/3.10.5/lib/python3.10/site-packages/toml/decoder.py:133\u001b[0m, in \u001b[0;36mload\u001b[0;34m(f, _dict, decoder)\u001b[0m\n\u001b[1;32m    114\u001b[0m \u001b[38;5;124;03m\"\"\"Parses named file or files as toml and returns a dictionary\u001b[39;00m\n\u001b[1;32m    115\u001b[0m \n\u001b[1;32m    116\u001b[0m \u001b[38;5;124;03mArgs:\u001b[39;00m\n\u001b[0;32m   (...)\u001b[0m\n\u001b[1;32m    129\u001b[0m \u001b[38;5;124;03m    (Python 2 / Python 3)          file paths is passed\u001b[39;00m\n\u001b[1;32m    130\u001b[0m \u001b[38;5;124;03m\"\"\"\u001b[39;00m\n\u001b[1;32m    132\u001b[0m \u001b[38;5;28;01mif\u001b[39;00m _ispath(f):\n\u001b[0;32m--> 133\u001b[0m     \u001b[38;5;28;01mwith\u001b[39;00m \u001b[43mio\u001b[49m\u001b[38;5;241;43m.\u001b[39;49m\u001b[43mopen\u001b[49m\u001b[43m(\u001b[49m\u001b[43m_getpath\u001b[49m\u001b[43m(\u001b[49m\u001b[43mf\u001b[49m\u001b[43m)\u001b[49m\u001b[43m,\u001b[49m\u001b[43m \u001b[49m\u001b[43mencoding\u001b[49m\u001b[38;5;241;43m=\u001b[39;49m\u001b[38;5;124;43m'\u001b[39;49m\u001b[38;5;124;43mutf-8\u001b[39;49m\u001b[38;5;124;43m'\u001b[39;49m\u001b[43m)\u001b[49m \u001b[38;5;28;01mas\u001b[39;00m ffile:\n\u001b[1;32m    134\u001b[0m         \u001b[38;5;28;01mreturn\u001b[39;00m loads(ffile\u001b[38;5;241m.\u001b[39mread(), _dict, decoder)\n\u001b[1;32m    135\u001b[0m \u001b[38;5;28;01melif\u001b[39;00m \u001b[38;5;28misinstance\u001b[39m(f, \u001b[38;5;28mlist\u001b[39m):\n",
      "\u001b[0;31mFileNotFoundError\u001b[0m: [Errno 2] No such file or directory: '/home/ivan/bots/latexdiffbot/pyproject.toml'"
     ]
    }
   ],
   "source": [
    "for bot in bots:\n",
    "    check_pull_restart(\n",
    "        working_dir=bots[bot][\"working_dir\"], \n",
    "        gh_raw_url_toml=bots[bot][\"gh_raw_url_toml\"], \n",
    "        service_name=bots[bot][\"service_name\"], \n",
    "        local_toml_filename='pyproject.toml'\n",
    "    )"
   ]
  },
  {
   "cell_type": "code",
   "execution_count": null,
   "id": "d5758f7a-7abc-490f-be3e-c5cddbd08da0",
   "metadata": {},
   "outputs": [],
   "source": []
  }
 ],
 "metadata": {
  "kernelspec": {
   "display_name": "Python 3 (ipykernel)",
   "language": "python",
   "name": "python3"
  },
  "language_info": {
   "codemirror_mode": {
    "name": "ipython",
    "version": 3
   },
   "file_extension": ".py",
   "mimetype": "text/x-python",
   "name": "python",
   "nbconvert_exporter": "python",
   "pygments_lexer": "ipython3",
   "version": "3.10.5"
  }
 },
 "nbformat": 4,
 "nbformat_minor": 5
}
