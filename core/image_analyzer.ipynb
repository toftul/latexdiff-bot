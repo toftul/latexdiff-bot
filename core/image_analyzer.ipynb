{
 "cells": [
  {
   "cell_type": "code",
   "execution_count": 24,
   "id": "1c1a6e3e-c29e-44dc-9a7b-7f59f6ba1dc1",
   "metadata": {
    "tags": []
   },
   "outputs": [],
   "source": [
    "import re\n",
    "import os\n",
    "\n",
    "from icecream import ic"
   ]
  },
  {
   "cell_type": "code",
   "execution_count": 25,
   "id": "c6401a14-60e6-4cd9-9a4d-5c1f719b83a8",
   "metadata": {
    "tags": []
   },
   "outputs": [
    {
     "name": "stdout",
     "output_type": "stream",
     "text": [
      "[['Figs/Fig_Inspired.png', 'Figs/Intro_v1.png', 'Figs/Intro-tunable.png', 'Figs/Property.pdf', 'Figs/PCM-Scheme-v1.png', 'Figs/PCM-Scheme-appl.png', 'Figs/PCM-outlook.png', 'Figs/TMDC_1-material.png', 'Figs/TMDC_2-scheme.png', 'Figs/fig1_perovskite.pdf', 'Figs/fig2_perovskite_v2.pdf', 'Figs/fig1_yuri.pdf', 'Figs/fig2_yuri.pdf', 'Figs/UpCon1.pdf', 'Figs/UpCon2.pdf'], ['Figs/Fig_TOC.png', 'Figs/Intro-concepts-v4.png', 'Figs/Intro-applications.png', 'Figs/Intro-applications3232.png', 'Figs/Intro-tunable.png', 'Figs/Property.pdf', 'Figs/PCM-Scheme-v1.png', 'Figs/PCM-scheme-appl-v3.png', 'Figs/PCM-outlook-v2.png', 'Figs/TMDC_1-material.png', 'Figs/TMDC-Scheme_v2.png', 'Figs/fig1_perovskite.pdf', 'Figs/fig2_perovskite_v2.pdf', 'Figs/fig1_MSNP.pdf', 'Figs/fig2_MSNP.pdf', 'Figs/UpCon1.pdf', 'Figs/UpCon2.pdf'], []]\n"
     ]
    }
   ],
   "source": [
    "# Directory where the LaTeX project is located\n",
    "project_dir = \"test_latex\"\n",
    "\n",
    "# Regular expression to match the \\includegraphics command\n",
    "includegraphics_regex = re.compile(r\"\\\\includegraphics(?:\\[[^\\]]*\\])?\\{([^}]+)\\}\")\n",
    "\n",
    "# List to store the names of the included figures\n",
    "included_figures = [[]]\n",
    "filenames = []\n",
    "\n",
    "# Loop through all the .tex files in the project directory\n",
    "i = 0\n",
    "for filename in os.listdir(project_dir):\n",
    "    if filename.endswith(\".tex\"):\n",
    "        filenames.append(filename)\n",
    "        with open(os.path.join(project_dir, filename), \"r\") as f:\n",
    "            # Read the contents of the file\n",
    "            contents = f.read()\n",
    "            \n",
    "            # Search for \\includegraphics commands\n",
    "            matches = includegraphics_regex.findall(contents)\n",
    "            \n",
    "            # Add the names of the included figures to the list\n",
    "            included_figures[i].extend(matches)\n",
    "        i += 1\n",
    "        included_figures.append([])\n",
    "\n",
    "# Print the list of included figures\n",
    "print(included_figures)"
   ]
  },
  {
   "cell_type": "code",
   "execution_count": 27,
   "id": "ffb1ce49-9642-4bf1-9608-22b8790bd354",
   "metadata": {
    "tags": []
   },
   "outputs": [
    {
     "name": "stderr",
     "output_type": "stream",
     "text": [
      "ic| filenames[1]: 'main.tex'\n",
      "    included_figures[1]: ['Figs/Fig_TOC.png',\n",
      "                          'Figs/Intro-concepts-v4.png',\n",
      "                          'Figs/Intro-applications.png',\n",
      "                          'Figs/Intro-applications3232.png',\n",
      "                          'Figs/Intro-tunable.png',\n",
      "                          'Figs/Property.pdf',\n",
      "                          'Figs/PCM-Scheme-v1.png',\n",
      "                          'Figs/PCM-scheme-appl-v3.png',\n",
      "                          'Figs/PCM-outlook-v2.png',\n",
      "                          'Figs/TMDC_1-material.png',\n",
      "                          'Figs/TMDC-Scheme_v2.png',\n",
      "                          'Figs/fig1_perovskite.pdf',\n",
      "                          'Figs/fig2_perovskite_v2.pdf',\n",
      "                          'Figs/fig1_MSNP.pdf',\n",
      "                          'Figs/fig2_MSNP.pdf',\n",
      "                          'Figs/UpCon1.pdf',\n",
      "                          'Figs/UpCon2.pdf']\n"
     ]
    }
   ],
   "source": [
    "ic(\n",
    "    filenames[1],\n",
    "    included_figures[1],\n",
    ");"
   ]
  },
  {
   "cell_type": "code",
   "execution_count": null,
   "id": "c16b9374-7438-40d9-8e09-164a3989aad3",
   "metadata": {},
   "outputs": [],
   "source": []
  }
 ],
 "metadata": {
  "kernelspec": {
   "display_name": "Python 3 (ipykernel)",
   "language": "python",
   "name": "python3"
  },
  "language_info": {
   "codemirror_mode": {
    "name": "ipython",
    "version": 3
   },
   "file_extension": ".py",
   "mimetype": "text/x-python",
   "name": "python",
   "nbconvert_exporter": "python",
   "pygments_lexer": "ipython3",
   "version": "3.11.2"
  }
 },
 "nbformat": 4,
 "nbformat_minor": 5
}
